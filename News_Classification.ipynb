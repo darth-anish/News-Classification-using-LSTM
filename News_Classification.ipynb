{
 "cells": [
  {
   "cell_type": "code",
   "execution_count": 85,
   "metadata": {},
   "outputs": [],
   "source": [
    "import pandas as pd\n",
    "import numpy as np\n",
    "import matplotlib.pyplot as plt\n",
    "from keras.preprocessing.text import Tokenizer\n",
    "from keras.preprocessing import sequence\n",
    "from tensorflow.keras.models import Sequential\n",
    "from tensorflow.keras.layers import LSTM, Activation, Dense, Dropout, Input, Embedding"
   ]
  },
  {
   "cell_type": "markdown",
   "metadata": {},
   "source": [
    "## Data preparation"
   ]
  },
  {
   "cell_type": "code",
   "execution_count": 2,
   "metadata": {},
   "outputs": [],
   "source": [
    "raw_data = pd.read_csv('bbc-text.csv')"
   ]
  },
  {
   "cell_type": "code",
   "execution_count": 3,
   "metadata": {},
   "outputs": [],
   "source": [
    "df = raw_data.copy()"
   ]
  },
  {
   "cell_type": "code",
   "execution_count": 4,
   "metadata": {},
   "outputs": [
    {
     "data": {
      "text/html": [
       "<div>\n",
       "<style scoped>\n",
       "    .dataframe tbody tr th:only-of-type {\n",
       "        vertical-align: middle;\n",
       "    }\n",
       "\n",
       "    .dataframe tbody tr th {\n",
       "        vertical-align: top;\n",
       "    }\n",
       "\n",
       "    .dataframe thead th {\n",
       "        text-align: right;\n",
       "    }\n",
       "</style>\n",
       "<table border=\"1\" class=\"dataframe\">\n",
       "  <thead>\n",
       "    <tr style=\"text-align: right;\">\n",
       "      <th></th>\n",
       "      <th>category</th>\n",
       "      <th>text</th>\n",
       "    </tr>\n",
       "  </thead>\n",
       "  <tbody>\n",
       "    <tr>\n",
       "      <th>0</th>\n",
       "      <td>tech</td>\n",
       "      <td>tv future in the hands of viewers with home th...</td>\n",
       "    </tr>\n",
       "    <tr>\n",
       "      <th>1</th>\n",
       "      <td>business</td>\n",
       "      <td>worldcom boss  left books alone  former worldc...</td>\n",
       "    </tr>\n",
       "    <tr>\n",
       "      <th>2</th>\n",
       "      <td>sport</td>\n",
       "      <td>tigers wary of farrell  gamble  leicester say ...</td>\n",
       "    </tr>\n",
       "    <tr>\n",
       "      <th>3</th>\n",
       "      <td>sport</td>\n",
       "      <td>yeading face newcastle in fa cup premiership s...</td>\n",
       "    </tr>\n",
       "    <tr>\n",
       "      <th>4</th>\n",
       "      <td>entertainment</td>\n",
       "      <td>ocean s twelve raids box office ocean s twelve...</td>\n",
       "    </tr>\n",
       "  </tbody>\n",
       "</table>\n",
       "</div>"
      ],
      "text/plain": [
       "        category                                               text\n",
       "0           tech  tv future in the hands of viewers with home th...\n",
       "1       business  worldcom boss  left books alone  former worldc...\n",
       "2          sport  tigers wary of farrell  gamble  leicester say ...\n",
       "3          sport  yeading face newcastle in fa cup premiership s...\n",
       "4  entertainment  ocean s twelve raids box office ocean s twelve..."
      ]
     },
     "execution_count": 4,
     "metadata": {},
     "output_type": "execute_result"
    }
   ],
   "source": [
    "df.head()"
   ]
  },
  {
   "cell_type": "code",
   "execution_count": 5,
   "metadata": {},
   "outputs": [
    {
     "data": {
      "text/plain": [
       "(2225, 2)"
      ]
     },
     "execution_count": 5,
     "metadata": {},
     "output_type": "execute_result"
    }
   ],
   "source": [
    "df.shape"
   ]
  },
  {
   "cell_type": "code",
   "execution_count": 6,
   "metadata": {},
   "outputs": [
    {
     "data": {
      "text/plain": [
       "sport            511\n",
       "business         510\n",
       "politics         417\n",
       "tech             401\n",
       "entertainment    386\n",
       "Name: category, dtype: int64"
      ]
     },
     "execution_count": 6,
     "metadata": {},
     "output_type": "execute_result"
    }
   ],
   "source": [
    "df['category'].value_counts()"
   ]
  },
  {
   "cell_type": "markdown",
   "metadata": {},
   "source": [
    "## Removing stop words"
   ]
  },
  {
   "cell_type": "code",
   "execution_count": 7,
   "metadata": {},
   "outputs": [],
   "source": [
    "from nltk.corpus import stopwords\n",
    "stop_words = set(stopwords.words('english'))"
   ]
  },
  {
   "cell_type": "code",
   "execution_count": 9,
   "metadata": {},
   "outputs": [],
   "source": [
    "def preprocess_stop_words(text_list):\n",
    "    res_list=[]\n",
    "    for word in text_list:\n",
    "        if word not in stop_words:\n",
    "            res_list.append(word)\n",
    "            \n",
    "    return ' '.join(res_list)\n",
    "        "
   ]
  },
  {
   "cell_type": "code",
   "execution_count": 10,
   "metadata": {},
   "outputs": [],
   "source": [
    "df['pro_text'] = df['text'].str.split().apply(preprocess_stop_words)"
   ]
  },
  {
   "cell_type": "code",
   "execution_count": 11,
   "metadata": {},
   "outputs": [
    {
     "data": {
      "text/html": [
       "<div>\n",
       "<style scoped>\n",
       "    .dataframe tbody tr th:only-of-type {\n",
       "        vertical-align: middle;\n",
       "    }\n",
       "\n",
       "    .dataframe tbody tr th {\n",
       "        vertical-align: top;\n",
       "    }\n",
       "\n",
       "    .dataframe thead th {\n",
       "        text-align: right;\n",
       "    }\n",
       "</style>\n",
       "<table border=\"1\" class=\"dataframe\">\n",
       "  <thead>\n",
       "    <tr style=\"text-align: right;\">\n",
       "      <th></th>\n",
       "      <th>category</th>\n",
       "      <th>text</th>\n",
       "      <th>pro_text</th>\n",
       "    </tr>\n",
       "  </thead>\n",
       "  <tbody>\n",
       "    <tr>\n",
       "      <th>0</th>\n",
       "      <td>tech</td>\n",
       "      <td>tv future in the hands of viewers with home th...</td>\n",
       "      <td>tv future hands viewers home theatre systems p...</td>\n",
       "    </tr>\n",
       "    <tr>\n",
       "      <th>1</th>\n",
       "      <td>business</td>\n",
       "      <td>worldcom boss  left books alone  former worldc...</td>\n",
       "      <td>worldcom boss left books alone former worldcom...</td>\n",
       "    </tr>\n",
       "    <tr>\n",
       "      <th>2</th>\n",
       "      <td>sport</td>\n",
       "      <td>tigers wary of farrell  gamble  leicester say ...</td>\n",
       "      <td>tigers wary farrell gamble leicester say rushe...</td>\n",
       "    </tr>\n",
       "    <tr>\n",
       "      <th>3</th>\n",
       "      <td>sport</td>\n",
       "      <td>yeading face newcastle in fa cup premiership s...</td>\n",
       "      <td>yeading face newcastle fa cup premiership side...</td>\n",
       "    </tr>\n",
       "    <tr>\n",
       "      <th>4</th>\n",
       "      <td>entertainment</td>\n",
       "      <td>ocean s twelve raids box office ocean s twelve...</td>\n",
       "      <td>ocean twelve raids box office ocean twelve cri...</td>\n",
       "    </tr>\n",
       "  </tbody>\n",
       "</table>\n",
       "</div>"
      ],
      "text/plain": [
       "        category                                               text  \\\n",
       "0           tech  tv future in the hands of viewers with home th...   \n",
       "1       business  worldcom boss  left books alone  former worldc...   \n",
       "2          sport  tigers wary of farrell  gamble  leicester say ...   \n",
       "3          sport  yeading face newcastle in fa cup premiership s...   \n",
       "4  entertainment  ocean s twelve raids box office ocean s twelve...   \n",
       "\n",
       "                                            pro_text  \n",
       "0  tv future hands viewers home theatre systems p...  \n",
       "1  worldcom boss left books alone former worldcom...  \n",
       "2  tigers wary farrell gamble leicester say rushe...  \n",
       "3  yeading face newcastle fa cup premiership side...  \n",
       "4  ocean twelve raids box office ocean twelve cri...  "
      ]
     },
     "execution_count": 11,
     "metadata": {},
     "output_type": "execute_result"
    }
   ],
   "source": [
    "df.head()"
   ]
  },
  {
   "cell_type": "markdown",
   "metadata": {},
   "source": [
    "## Tokenization and padding sequences"
   ]
  },
  {
   "cell_type": "code",
   "execution_count": 84,
   "metadata": {},
   "outputs": [],
   "source": [
    "max_words = 5000  #top 1000 common words to be included while tokenizing\n",
    "max_length = 250\n",
    "\n",
    "#initalization of tokenizer\n",
    "tok = Tokenizer(num_words=max_words)\n",
    "\n",
    "#fitting/creating words dictionary with words as key and numbers as values\n",
    "#pro_text is input variable\n",
    "\n",
    "tok.fit_on_texts(df['pro_text'].values)\n",
    "\n",
    "#assigning df['text'] each words tokens \n",
    "#this is done separately so that test words could also be assigned tokens\n",
    "X_seq = tok.texts_to_sequences(df['pro_text'].values)"
   ]
  },
  {
   "cell_type": "code",
   "execution_count": 54,
   "metadata": {},
   "outputs": [
    {
     "name": "stdout",
     "output_type": "stream",
     "text": [
      "Shape of data tensor: (2225, 250)\n"
     ]
    }
   ],
   "source": [
    "X_seq = sequence.pad_sequences(X_seq, maxlen=max_length)\n",
    "print('Shape of data tensor:', X_seq.shape)"
   ]
  },
  {
   "cell_type": "code",
   "execution_count": 83,
   "metadata": {},
   "outputs": [],
   "source": [
    "#category is target variable\n",
    "y_seq = pd.get_dummies(df['category']).values"
   ]
  },
  {
   "cell_type": "markdown",
   "metadata": {},
   "source": [
    "## Splitting data sequences"
   ]
  },
  {
   "cell_type": "code",
   "execution_count": 56,
   "metadata": {},
   "outputs": [],
   "source": [
    "X_train, X_test, y_train, y_test = train_test_split(X_seq, y_seq, test_size=0.2, random_state=42)"
   ]
  },
  {
   "cell_type": "code",
   "execution_count": 57,
   "metadata": {},
   "outputs": [
    {
     "name": "stdout",
     "output_type": "stream",
     "text": [
      "(1780, 250)\n",
      "(445, 250)\n"
     ]
    }
   ],
   "source": [
    "print(X_train.shape)\n",
    "print(X_test.shape)"
   ]
  },
  {
   "cell_type": "code",
   "execution_count": 58,
   "metadata": {},
   "outputs": [
    {
     "name": "stdout",
     "output_type": "stream",
     "text": [
      "(1780, 5)\n",
      "(445, 5)\n"
     ]
    }
   ],
   "source": [
    "print(y_train.shape)\n",
    "print(y_test.shape)"
   ]
  },
  {
   "cell_type": "markdown",
   "metadata": {},
   "source": [
    "## Model Building"
   ]
  },
  {
   "cell_type": "code",
   "execution_count": 59,
   "metadata": {
    "scrolled": true
   },
   "outputs": [],
   "source": [
    "model = Sequential()"
   ]
  },
  {
   "cell_type": "code",
   "execution_count": 60,
   "metadata": {
    "scrolled": true
   },
   "outputs": [],
   "source": [
    "model.add(Embedding(max_words,64, input_length=max_length))\n",
    "model.add(LSTM(50))\n",
    "model.add(Dense(5, activation='softmax'))\n",
    "model.compile(loss='categorical_crossentropy', optimizer='adam', metrics=['accuracy'])"
   ]
  },
  {
   "cell_type": "code",
   "execution_count": 61,
   "metadata": {},
   "outputs": [
    {
     "name": "stdout",
     "output_type": "stream",
     "text": [
      "Model: \"sequential_2\"\n",
      "_________________________________________________________________\n",
      "Layer (type)                 Output Shape              Param #   \n",
      "=================================================================\n",
      "embedding_2 (Embedding)      (None, 250, 64)           320000    \n",
      "_________________________________________________________________\n",
      "unified_lstm_2 (UnifiedLSTM) (None, 50)                23000     \n",
      "_________________________________________________________________\n",
      "dense_2 (Dense)              (None, 5)                 255       \n",
      "=================================================================\n",
      "Total params: 343,255\n",
      "Trainable params: 343,255\n",
      "Non-trainable params: 0\n",
      "_________________________________________________________________\n"
     ]
    }
   ],
   "source": [
    "model.summary()"
   ]
  },
  {
   "cell_type": "code",
   "execution_count": 62,
   "metadata": {},
   "outputs": [
    {
     "name": "stdout",
     "output_type": "stream",
     "text": [
      "Train on 1780 samples, validate on 445 samples\n",
      "Epoch 1/20\n",
      "1780/1780 [==============================] - 5s 3ms/sample - loss: 1.4712 - accuracy: 0.3309 - val_loss: 1.2121 - val_accuracy: 0.4157\n",
      "Epoch 2/20\n",
      "1780/1780 [==============================] - 5s 3ms/sample - loss: 0.9534 - accuracy: 0.5888 - val_loss: 0.8307 - val_accuracy: 0.5955\n",
      "Epoch 3/20\n",
      "1780/1780 [==============================] - 5s 3ms/sample - loss: 0.6992 - accuracy: 0.7961 - val_loss: 1.1799 - val_accuracy: 0.5483\n",
      "Epoch 4/20\n",
      "1780/1780 [==============================] - 5s 3ms/sample - loss: 0.6686 - accuracy: 0.8489 - val_loss: 0.6334 - val_accuracy: 0.8225\n",
      "Epoch 5/20\n",
      "1780/1780 [==============================] - 5s 3ms/sample - loss: 0.2863 - accuracy: 0.9680 - val_loss: 0.4002 - val_accuracy: 0.8899\n",
      "Epoch 6/20\n",
      "1780/1780 [==============================] - 5s 3ms/sample - loss: 0.1190 - accuracy: 0.9871 - val_loss: 0.3156 - val_accuracy: 0.9191\n",
      "Epoch 7/20\n",
      "1780/1780 [==============================] - 5s 3ms/sample - loss: 0.0559 - accuracy: 0.9966 - val_loss: 0.3138 - val_accuracy: 0.8944\n",
      "Epoch 8/20\n",
      "1780/1780 [==============================] - 5s 3ms/sample - loss: 0.0347 - accuracy: 0.9989 - val_loss: 0.2774 - val_accuracy: 0.9191\n",
      "Epoch 9/20\n",
      "1780/1780 [==============================] - 5s 3ms/sample - loss: 0.0235 - accuracy: 0.9994 - val_loss: 0.2903 - val_accuracy: 0.9281\n",
      "Epoch 10/20\n",
      "1780/1780 [==============================] - 5s 3ms/sample - loss: 0.0185 - accuracy: 0.9994 - val_loss: 0.2844 - val_accuracy: 0.9281\n",
      "Epoch 11/20\n",
      "1780/1780 [==============================] - 5s 3ms/sample - loss: 0.0145 - accuracy: 0.9994 - val_loss: 0.2832 - val_accuracy: 0.9281\n",
      "Epoch 12/20\n",
      "1780/1780 [==============================] - 5s 3ms/sample - loss: 0.0117 - accuracy: 0.9994 - val_loss: 0.3103 - val_accuracy: 0.9191\n",
      "Epoch 13/20\n",
      "1780/1780 [==============================] - 5s 3ms/sample - loss: 0.0160 - accuracy: 0.9972 - val_loss: 0.2969 - val_accuracy: 0.9191\n",
      "Epoch 14/20\n",
      "1780/1780 [==============================] - 5s 3ms/sample - loss: 0.0091 - accuracy: 0.9994 - val_loss: 0.2941 - val_accuracy: 0.9213\n",
      "Epoch 15/20\n",
      "1780/1780 [==============================] - 5s 3ms/sample - loss: 0.0061 - accuracy: 1.0000 - val_loss: 0.2913 - val_accuracy: 0.9236\n",
      "Epoch 16/20\n",
      "1780/1780 [==============================] - 5s 3ms/sample - loss: 0.0050 - accuracy: 1.0000 - val_loss: 0.2947 - val_accuracy: 0.9236\n",
      "Epoch 17/20\n",
      "1780/1780 [==============================] - 5s 3ms/sample - loss: 0.0043 - accuracy: 1.0000 - val_loss: 0.2904 - val_accuracy: 0.9303\n",
      "Epoch 18/20\n",
      "1780/1780 [==============================] - 5s 3ms/sample - loss: 0.0037 - accuracy: 1.0000 - val_loss: 0.2985 - val_accuracy: 0.9303\n",
      "Epoch 19/20\n",
      "1780/1780 [==============================] - 5s 3ms/sample - loss: 0.0033 - accuracy: 1.0000 - val_loss: 0.3002 - val_accuracy: 0.9303\n",
      "Epoch 20/20\n",
      "1780/1780 [==============================] - 5s 3ms/sample - loss: 0.0029 - accuracy: 1.0000 - val_loss: 0.2983 - val_accuracy: 0.9281\n"
     ]
    }
   ],
   "source": [
    "history = model.fit(X_train, y_train, validation_data=(X_test,y_test),epochs=20)"
   ]
  },
  {
   "cell_type": "code",
   "execution_count": 63,
   "metadata": {},
   "outputs": [
    {
     "name": "stdout",
     "output_type": "stream",
     "text": [
      "Accuracy: 92.81%\n"
     ]
    }
   ],
   "source": [
    "# Final evaluation of the model\n",
    "scores = model.evaluate(X_test, y_test, verbose=0)\n",
    "print(\"Accuracy: %.2f%%\" % (scores[1]*100))"
   ]
  },
  {
   "cell_type": "markdown",
   "metadata": {},
   "source": [
    "## Plots"
   ]
  },
  {
   "cell_type": "code",
   "execution_count": 64,
   "metadata": {},
   "outputs": [
    {
     "data": {
      "image/png": "[encoded data removed]",
      "text/plain": [
       "<Figure size 1080x360 with 2 Axes>"
      ]
     },
     "metadata": {
      "needs_background": "light"
     },
     "output_type": "display_data"
    }
   ],
   "source": [
    "fig, ax = plt.subplots(1,2,figsize=(15,5))\n",
    "ax[0].plot(history.history['val_loss'], label='val_data' )\n",
    "ax[0].plot(history.history['loss'], label='train_data')\n",
    "ax[0].axis([1,12,0,2])\n",
    "ax[0].set_title('Loss')\n",
    "ax[0].legend()\n",
    "\n",
    "ax[1].plot(history.history['val_accuracy'], label='val_data')\n",
    "ax[1].plot(history.history['accuracy'], label='train_data')\n",
    "ax[1].axis([1,12,0,2])\n",
    "ax[1].set_title('Accuracy')\n",
    "ax[1].legend()\n",
    "plt.show()"
   ]
  },
  {
   "cell_type": "markdown",
   "metadata": {},
   "source": [
    "## Save the model"
   ]
  },
  {
   "cell_type": "code",
   "execution_count": 65,
   "metadata": {},
   "outputs": [],
   "source": [
    "model.save('Model_LSTM.h5py')"
   ]
  },
  {
   "cell_type": "markdown",
   "metadata": {},
   "source": [
    "## Real prediction "
   ]
  },
  {
   "cell_type": "code",
   "execution_count": 74,
   "metadata": {},
   "outputs": [],
   "source": [
    "sport_sample=\"Manuel Neuer has ended speculation about his future after agreeing to extend his contract at Bayern Munich until 2023.\"\\\n",
    "\"The goalkeeper was linked with a move to Chelsea as replacement for Kepa Arrizabalaga, although Sky in Germany reported in March the 34-year-old was keen to stay at Bayern\"\\\n",
    "\"Negotiations proved difficult amid the Bundesliga's suspension due to the coronavirus pandemic, but Neuer has now signed the two-year extension after the German top tier resumed last weekend.\"\\\n",
    "\"It was important for me to continue working with our goalkeeping coach Toni Tapalovic. Now this has been resolved, I look to the future with great optimism. I feel very comfortable and at home in Bavaria. FC Bayern are one of Europe's top football clubs\"\\\n",
    "\"During the weeks of the shutdown for the coronavirus pandemic, I didn't want to make a decision because nobody knew if, when and how Bundesliga football would continue, Neuer told the club's website.\"\\\n",
    "\"Neuer will soon have competition in the form of Alexander Nubel after Bayern agreed a deal for the Schalke goalkeeper to join them ahead of the 2020-21 season.\"\\\n",
    "\"And though the Bundesliga leaders appear to be building for the future as Neuer nears the final phase of his career, former Bayern goalkeeper Oliver Kahn - an executive board member at the club - says the contract extension sends out a strong message.\"\\\n",
    "\"Neuer has won seven Bundesliga titles in a row with Bayern, winning the DFB-Pokal Cup on four occasions and the Champions League in 2013.\"\\\n",
    "\"He played every minute of Germany's World Cup-winning campaign in 2014, and has been named in the FIFPro World XI on four occasions.\""
   ]
  },
  {
   "cell_type": "code",
   "execution_count": 75,
   "metadata": {},
   "outputs": [],
   "source": [
    "business_sample=\"Benchmark indices marched higher for the second straight day on Wednesday as robust gains in market heavyweights HDFC twins and RIL offset lacklustre global cues.\"\\\n",
    "    \"The 30-share BSE Sensex climbed 622.44 points or 2.06 per cent to settle at 30,818.61, while the broader NSE Nifty rose 187.45 points, or 2.11 cent, to 9,066.55.\"\\\n",
    "    \"Traders said encouraging corporate results bolstered investor confidence, though rising COVID-19 cases in India capped the gains.\"\\\n",
    "    \"Further, media reports said Finance Minister Nirmala Sitharaman has not ruled out announcing more measures to help the coronavirus-hit economy, which added to the buying momentum, they added.\"\\\n",
    "    \"M&M was the top gainer in the Sensex pack, surging 5.92 per cent, followed by HDFC, L&T, Tata Steel, Bajaj Finance, HDFC Bank and Sun Pharma.\"\\\n",
    "    \"Only four Sensex constituents ended in the red -- IndusInd Bank, Hero MotoCorp, Bharti Airtel and Asian Paints, shedding up to 2.85 per cent.\"\\\n",
    "    \"Domestic markets opened flat but gained higher later during the day led by buying across all sectors. Positive statements from the Finance Minister also could have lifted markets (and showed) that the government was with industry and would do as much as possible depending on how the coronavirus pandemic will pan out, implying there could be further stimulus ahead, said Paras Bothra, President of Equity Research, Ashika Stock Broking.\"\\\n",
    "    \"BSE healthcare, capital goods, finance, consumer durables and oil and gas indices rallied up to 3.16 per cent, while telecom ended in the red.\"\\\n",
    "    \"Broader BSE midcap and smallcap indices spurted up to 1.49 per cent. Global markets were largely subdued after news reports cast doubts on some COVID-19 vaccine trials.\""
   ]
  },
  {
   "cell_type": "code",
   "execution_count": 76,
   "metadata": {},
   "outputs": [],
   "source": [
    "\n",
    "labels=['business','entertainment','politics','sport','tech']"
   ]
  },
  {
   "cell_type": "code",
   "execution_count": 80,
   "metadata": {},
   "outputs": [],
   "source": [
    "def predict_res(sport_sample):\n",
    "    sam_list = sport_sample.split()\n",
    "    test = preprocess_stop_words(sam_list) \n",
    "    testing = tok.texts_to_sequences([test])\n",
    "    sam_seq = sequence.pad_sequences(testing, maxlen=max_length)\n",
    "    print('Shape of data tensor:', sam_seq.shape)\n",
    "    res = model.predict(sam_seq)\n",
    "    print(labels[np.argmax(res)])"
   ]
  },
  {
   "cell_type": "code",
   "execution_count": 81,
   "metadata": {},
   "outputs": [
    {
     "name": "stdout",
     "output_type": "stream",
     "text": [
      "Shape of data tensor: (1, 250)\n",
      "business\n"
     ]
    }
   ],
   "source": [
    "predict_res(business_sample)"
   ]
  },
  {
   "cell_type": "code",
   "execution_count": 82,
   "metadata": {},
   "outputs": [
    {
     "name": "stdout",
     "output_type": "stream",
     "text": [
      "Shape of data tensor: (1, 250)\n",
      "sport\n"
     ]
    }
   ],
   "source": [
    "predict_res(sport_sample)"
   ]
  }
 ],
 "metadata": {
  "kernelspec": {
   "display_name": "Python 3",
   "language": "python",
   "name": "python3"
  },
  "language_info": {
   "codemirror_mode": {
    "name": "ipython",
    "version": 3
   },
   "file_extension": ".py",
   "mimetype": "text/x-python",
   "name": "python",
   "nbconvert_exporter": "python",
   "pygments_lexer": "ipython3",
   "version": "3.7.7"
  }
 },
 "nbformat": 4,
 "nbformat_minor": 4
}
